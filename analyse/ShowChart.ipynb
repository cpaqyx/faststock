{
 "cells": [
  {
   "cell_type": "code",
   "execution_count": 6,
   "metadata": {},
   "outputs": [],
   "source": [
    "import sys\n",
    "sys.path.append('..')\n",
    "from analyse.ChartTools import ChartTools\n",
    "from analyse.WeekDay import WeekDay"
   ]
  },
  {
   "cell_type": "code",
   "execution_count": 1,
   "outputs": [
    {
     "ename": "NameError",
     "evalue": "name 'ChartTools' is not defined",
     "output_type": "error",
     "traceback": [
      "\u001B[1;31m---------------------------------------------------------------------------\u001B[0m",
      "\u001B[1;31mNameError\u001B[0m                                 Traceback (most recent call last)",
      "Cell \u001B[1;32mIn[1], line 3\u001B[0m\n\u001B[0;32m      1\u001B[0m \u001B[38;5;66;03m# ChartTools().show_k_line(\"中国铝业\", \"20220201\", \"20221228\", (5, 10, 30))\u001B[39;00m\n\u001B[0;32m      2\u001B[0m \u001B[38;5;66;03m# ChartTools().show_k_line(\"中国铝业\", \"20210101\", \"20221231\", ())\u001B[39;00m\n\u001B[1;32m----> 3\u001B[0m \u001B[43mChartTools\u001B[49m()\u001B[38;5;241m.\u001B[39mshow_k_lines(\u001B[38;5;124m\"\u001B[39m\u001B[38;5;124m000860.SZ\u001B[39m\u001B[38;5;124m\"\u001B[39m, \u001B[38;5;124m\"\u001B[39m\u001B[38;5;124m20210101\u001B[39m\u001B[38;5;124m\"\u001B[39m, \u001B[38;5;124m\"\u001B[39m\u001B[38;5;124m买入当天最少涨0.5_忽略点数1.4_卖出前面连续大涨天数2_买入前面连续大涨天数3_\u001B[39m\u001B[38;5;124m\"\u001B[39m)\n",
      "\u001B[1;31mNameError\u001B[0m: name 'ChartTools' is not defined"
     ]
    }
   ],
   "source": [
    "# ChartTools().show_k_line(\"中国铝业\", \"20220201\", \"20221228\", (5, 10, 30))\n",
    "# ChartTools().show_k_line(\"中国铝业\", \"20210101\", \"20221231\", ())\n",
    "ChartTools().show_k_lines(\"000860.SZ\", \"20210101\", \"买入当天最少涨0.5_忽略点数1.4_卖出前面连续大涨天数2_买入前面连续大涨天数3_\")"
   ],
   "metadata": {
    "collapsed": false
   }
  },
  {
   "cell_type": "code",
   "execution_count": 2,
   "metadata": {},
   "outputs": [
    {
     "ename": "NameError",
     "evalue": "name 'ChartTools' is not defined",
     "output_type": "error",
     "traceback": [
      "\u001B[1;31m---------------------------------------------------------------------------\u001B[0m",
      "\u001B[1;31mNameError\u001B[0m                                 Traceback (most recent call last)",
      "Cell \u001B[1;32mIn[2], line 1\u001B[0m\n\u001B[1;32m----> 1\u001B[0m \u001B[43mChartTools\u001B[49m()\u001B[38;5;241m.\u001B[39mshow_k_line(\u001B[38;5;124m\"\u001B[39m\u001B[38;5;124m600036.SH\u001B[39m\u001B[38;5;124m\"\u001B[39m, \u001B[38;5;124m\"\u001B[39m\u001B[38;5;124m20220801\u001B[39m\u001B[38;5;124m\"\u001B[39m, \u001B[38;5;124m\"\u001B[39m\u001B[38;5;124m20221230\u001B[39m\u001B[38;5;124m\"\u001B[39m, (\u001B[38;5;241m5\u001B[39m, \u001B[38;5;241m10\u001B[39m, \u001B[38;5;241m30\u001B[39m))\n",
      "\u001B[1;31mNameError\u001B[0m: name 'ChartTools' is not defined"
     ]
    }
   ],
   "source": [
    "ChartTools().show_k_line(\"600036.SH\", \"20220801\", \"20221230\", (5, 10, 30))"
   ]
  },
  {
   "cell_type": "code",
   "execution_count": 9,
   "metadata": {},
   "outputs": [],
   "source": [
    "# WeekDay().show_week_up_percent(\"600036.SH\", \"20220001\", \"20221230\")"
   ]
  },
  {
   "cell_type": "code",
   "execution_count": 10,
   "metadata": {},
   "outputs": [],
   "source": [
    "# WeekDay().show_week_up_percent(\"all\", \"20220001\", \"20221230\")"
   ]
  },
  {
   "cell_type": "code",
   "execution_count": 10,
   "metadata": {},
   "outputs": [],
   "source": []
  },
  {
   "cell_type": "code",
   "execution_count": 10,
   "metadata": {},
   "outputs": [],
   "source": []
  },
  {
   "cell_type": "code",
   "execution_count": 10,
   "metadata": {},
   "outputs": [],
   "source": []
  }
 ],
 "metadata": {
  "kernelspec": {
   "display_name": "Python 3 (ipykernel)",
   "language": "python",
   "name": "python3"
  },
  "language_info": {
   "codemirror_mode": {
    "name": "ipython",
    "version": 3
   },
   "file_extension": ".py",
   "mimetype": "text/x-python",
   "name": "python",
   "nbconvert_exporter": "python",
   "pygments_lexer": "ipython3",
   "version": "3.10.8"
  }
 },
 "nbformat": 4,
 "nbformat_minor": 1
}
